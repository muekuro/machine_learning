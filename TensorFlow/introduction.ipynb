{
 "cells": [
  {
   "cell_type": "code",
   "execution_count": 10,
   "metadata": {},
   "outputs": [],
   "source": [
    "import tensorflow as tf"
   ]
  },
  {
   "cell_type": "code",
   "execution_count": null,
   "metadata": {},
   "outputs": [],
   "source": [
    "mnist = tf.keras.datasets.mnist\n",
    "\n",
    "(x_train, y_train), (x_test, y_test) = mnist.load_data() # MNISTデータセットをロードして準備\n",
    "x_train, x_test = x_train / 255.0, x_test / 255.0 # 整数から浮動小数点数に変換"
   ]
  },
  {
   "cell_type": "code",
   "execution_count": 11,
   "metadata": {},
   "outputs": [],
   "source": [
    "# 層を積み重ねてモデルを構築\n",
    "model = tf.keras.models.Sequential([\n",
    "    tf.keras.layers.Flatten(input_shape=(28, 28)),\n",
    "    tf.keras.layers.Dense(128, activation='relu'),\n",
    "    tf.keras.layers.Dropout(0.2),\n",
    "    tf.keras.layers.Dense(10)\n",
    "])"
   ]
  },
  {
   "cell_type": "code",
   "execution_count": 12,
   "metadata": {
    "scrolled": true
   },
   "outputs": [
    {
     "data": {
      "text/plain": [
       "array([[-0.1199351 , -0.24876107, -0.55953145, -0.12498512,  0.5667242 ,\n",
       "         0.10201988, -0.04447686,  0.09132677,  0.15825573, -0.08522455]],\n",
       "      dtype=float32)"
      ]
     },
     "execution_count": 12,
     "metadata": {},
     "output_type": "execute_result"
    }
   ],
   "source": [
    "predictions = model(x_train[:1]).numpy() # クラスごとにロジットや対数オッズ比と呼ばれるスコアを算出\n",
    "predictions"
   ]
  },
  {
   "cell_type": "code",
   "execution_count": 13,
   "metadata": {},
   "outputs": [
    {
     "data": {
      "text/plain": [
       "array([[0.08753778, 0.07695682, 0.05640028, 0.08709683, 0.17394337,\n",
       "        0.10929225, 0.09439884, 0.10812981, 0.1156145 , 0.09062961]],\n",
       "      dtype=float32)"
      ]
     },
     "execution_count": 13,
     "metadata": {},
     "output_type": "execute_result"
    }
   ],
   "source": [
    "tf.nn.softmax(predictions).numpy() # クラスごとにこれらのロジットを確立に変換"
   ]
  },
  {
   "cell_type": "code",
   "execution_count": 15,
   "metadata": {},
   "outputs": [],
   "source": [
    "# ロジットとTrueのインデックスに関するベクトルを入力にとり，それぞれの標本についてクラスごとに損失のスカラーを返す\n",
    "loss_fn = tf.keras.losses.SparseCategoricalCrossentropy(from_logits=True)"
   ]
  },
  {
   "cell_type": "code",
   "execution_count": 18,
   "metadata": {},
   "outputs": [
    {
     "data": {
      "text/plain": [
       "2.2137299"
      ]
     },
     "execution_count": 18,
     "metadata": {},
     "output_type": "execute_result"
    }
   ],
   "source": [
    "# この損失はクラスが正しい確率の大数をとって符号を判定させたものである，この値はモデルがこのクラスが正しいと確信しているときに0になる。\n",
    "# この訓練されていないモデルはランダムに近い値(それぞれのクラスについて1/10)を出力する。\n",
    "loss_fn(y_train[:1], predictions).numpy()"
   ]
  },
  {
   "cell_type": "code",
   "execution_count": 19,
   "metadata": {},
   "outputs": [],
   "source": [
    "model.compile(optimizer = 'adam',\n",
    "             loss=loss_fn,\n",
    "             metrics=['accuracy'])"
   ]
  },
  {
   "cell_type": "code",
   "execution_count": 21,
   "metadata": {},
   "outputs": [
    {
     "name": "stdout",
     "output_type": "stream",
     "text": [
      "Epoch 1/5\n",
      "1875/1875 [==============================] - 1s 739us/step - loss: 0.0642 - accuracy: 0.9793\n",
      "Epoch 2/5\n",
      "1875/1875 [==============================] - 1s 726us/step - loss: 0.0572 - accuracy: 0.9812\n",
      "Epoch 3/5\n",
      "1875/1875 [==============================] - 1s 721us/step - loss: 0.0517 - accuracy: 0.9830\n",
      "Epoch 4/5\n",
      "1875/1875 [==============================] - 1s 722us/step - loss: 0.0456 - accuracy: 0.9851\n",
      "Epoch 5/5\n",
      "1875/1875 [==============================] - 1s 736us/step - loss: 0.0448 - accuracy: 0.9847\n"
     ]
    },
    {
     "data": {
      "text/plain": [
       "<keras.callbacks.History at 0x15fdcadf0>"
      ]
     },
     "execution_count": 21,
     "metadata": {},
     "output_type": "execute_result"
    }
   ],
   "source": [
    "# 損失を最小化するようにモデルのパラメータを調整\n",
    "model.fit(x_train, y_train, epochs=5)"
   ]
  },
  {
   "cell_type": "code",
   "execution_count": 23,
   "metadata": {},
   "outputs": [
    {
     "name": "stdout",
     "output_type": "stream",
     "text": [
      "313/313 - 0s - loss: 0.0692 - accuracy: 0.9796 - 146ms/epoch - 467us/step\n"
     ]
    },
    {
     "data": {
      "text/plain": [
       "[0.06920691579580307, 0.9796000123023987]"
      ]
     },
     "execution_count": 23,
     "metadata": {},
     "output_type": "execute_result"
    }
   ],
   "source": [
    "# モデルの性能を検査する。\n",
    "# これは通常検証用データセットまたはテストデータセットを用いる\n",
    "model.evaluate(x_test, y_test, verbose=2)"
   ]
  },
  {
   "cell_type": "code",
   "execution_count": 24,
   "metadata": {},
   "outputs": [
    {
     "data": {
      "text/plain": [
       "<tf.Tensor: shape=(5, 10), dtype=float32, numpy=\n",
       "array([[9.13719309e-11, 8.09100963e-12, 2.68370925e-08, 2.24170217e-05,\n",
       "        2.03961531e-15, 1.56127139e-10, 1.04326255e-19, 9.99977469e-01,\n",
       "        1.73540363e-10, 9.99832750e-08],\n",
       "       [5.30501580e-08, 3.57030149e-06, 9.99995708e-01, 7.25625782e-08,\n",
       "        6.84837951e-20, 4.00669194e-07, 1.14928490e-07, 1.36217859e-15,\n",
       "        3.31509931e-08, 2.22879091e-16],\n",
       "       [6.40352482e-09, 9.99957800e-01, 1.19124879e-05, 5.29031219e-09,\n",
       "        1.13095746e-06, 2.97880351e-08, 2.07652278e-07, 2.28854278e-05,\n",
       "        5.90343416e-06, 1.65587988e-09],\n",
       "       [9.99940395e-01, 5.24328525e-10, 2.34442814e-06, 4.64551064e-08,\n",
       "        3.33389183e-09, 3.17129457e-06, 5.37625710e-05, 1.17912627e-07,\n",
       "        4.30110288e-11, 1.27491404e-07],\n",
       "       [1.38667176e-07, 2.73876448e-14, 2.93018161e-08, 2.08166959e-08,\n",
       "        9.99953270e-01, 9.57238822e-09, 6.88040345e-08, 2.28890690e-06,\n",
       "        2.00153161e-09, 4.41953998e-05]], dtype=float32)>"
      ]
     },
     "execution_count": 24,
     "metadata": {},
     "output_type": "execute_result"
    }
   ],
   "source": [
    "# モデルが確率を返すようにする場合\n",
    "probability_model = tf.keras.Sequential([\n",
    "    model,\n",
    "    tf.keras.layers.Softmax()\n",
    "])\n",
    "probability_model(x_test[:5])"
   ]
  }
 ],
 "metadata": {
  "interpreter": {
   "hash": "b0fa6594d8f4cbf19f97940f81e996739fb7646882a419484c72d19e05852a7e"
  },
  "kernelspec": {
   "display_name": "Python 3 (ipykernel)",
   "language": "python",
   "name": "python3"
  },
  "language_info": {
   "codemirror_mode": {
    "name": "ipython",
    "version": 3
   },
   "file_extension": ".py",
   "mimetype": "text/x-python",
   "name": "python",
   "nbconvert_exporter": "python",
   "pygments_lexer": "ipython3",
   "version": "3.9.12"
  }
 },
 "nbformat": 4,
 "nbformat_minor": 2
}

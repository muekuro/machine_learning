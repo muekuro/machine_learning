{
 "cells": [
  {
   "cell_type": "code",
   "execution_count": 2,
   "id": "de298d94",
   "metadata": {},
   "outputs": [],
   "source": [
    "# モデルハイパーパラメータ： 非表示レイヤーの数と幅などのモデルの選択に影響\n",
    "# アルゴリズムハイパーパラメータ: 確率勾配降下法（SGD)の学習速度やk最近傍(kNN)分類機の最近傍の数など、学習アルゴリズムの速度と質に影響\n",
    "import tensorflow as tf\n",
    "from tensorflow import keras\n",
    "\n",
    "import IPython"
   ]
  },
  {
   "cell_type": "code",
   "execution_count": 15,
   "id": "d53675da",
   "metadata": {},
   "outputs": [
    {
     "name": "stdout",
     "output_type": "stream",
     "text": [
      "Requirement already up-to-date: keras-tuner in /Users/mugaikotsu/miniforge3/envs/m1_mac_tensorflow/lib/python3.8/site-packages (1.1.2)\n",
      "Requirement already satisfied, skipping upgrade: packaging in /Users/mugaikotsu/miniforge3/envs/m1_mac_tensorflow/lib/python3.8/site-packages (from keras-tuner) (21.3)\n",
      "Requirement already satisfied, skipping upgrade: ipython in /Users/mugaikotsu/miniforge3/envs/m1_mac_tensorflow/lib/python3.8/site-packages (from keras-tuner) (8.4.0)\n",
      "Requirement already satisfied, skipping upgrade: kt-legacy in /Users/mugaikotsu/miniforge3/envs/m1_mac_tensorflow/lib/python3.8/site-packages (from keras-tuner) (1.0.4)\n",
      "Requirement already satisfied, skipping upgrade: tensorboard in /Users/mugaikotsu/miniforge3/envs/m1_mac_tensorflow/lib/python3.8/site-packages (from keras-tuner) (2.8.0)\n",
      "Requirement already satisfied, skipping upgrade: numpy in /Users/mugaikotsu/miniforge3/envs/m1_mac_tensorflow/lib/python3.8/site-packages (from keras-tuner) (1.22.4)\n",
      "Requirement already satisfied, skipping upgrade: requests in /Users/mugaikotsu/miniforge3/envs/m1_mac_tensorflow/lib/python3.8/site-packages (from keras-tuner) (2.27.1)\n",
      "Requirement already satisfied, skipping upgrade: pyparsing!=3.0.5,>=2.0.2 in /Users/mugaikotsu/miniforge3/envs/m1_mac_tensorflow/lib/python3.8/site-packages (from packaging->keras-tuner) (3.0.9)\n",
      "Requirement already satisfied, skipping upgrade: stack-data in /Users/mugaikotsu/miniforge3/envs/m1_mac_tensorflow/lib/python3.8/site-packages (from ipython->keras-tuner) (0.2.0)\n",
      "Requirement already satisfied, skipping upgrade: prompt-toolkit!=3.0.0,!=3.0.1,<3.1.0,>=2.0.0 in /Users/mugaikotsu/miniforge3/envs/m1_mac_tensorflow/lib/python3.8/site-packages (from ipython->keras-tuner) (3.0.29)\n",
      "Requirement already satisfied, skipping upgrade: pygments>=2.4.0 in /Users/mugaikotsu/miniforge3/envs/m1_mac_tensorflow/lib/python3.8/site-packages (from ipython->keras-tuner) (2.12.0)\n",
      "Requirement already satisfied, skipping upgrade: backcall in /Users/mugaikotsu/miniforge3/envs/m1_mac_tensorflow/lib/python3.8/site-packages (from ipython->keras-tuner) (0.2.0)\n",
      "Requirement already satisfied, skipping upgrade: pickleshare in /Users/mugaikotsu/miniforge3/envs/m1_mac_tensorflow/lib/python3.8/site-packages (from ipython->keras-tuner) (0.7.5)\n",
      "Requirement already satisfied, skipping upgrade: setuptools>=18.5 in /Users/mugaikotsu/miniforge3/envs/m1_mac_tensorflow/lib/python3.8/site-packages (from ipython->keras-tuner) (62.3.2)\n",
      "Requirement already satisfied, skipping upgrade: traitlets>=5 in /Users/mugaikotsu/miniforge3/envs/m1_mac_tensorflow/lib/python3.8/site-packages (from ipython->keras-tuner) (5.2.1.post0)\n",
      "Requirement already satisfied, skipping upgrade: decorator in /Users/mugaikotsu/miniforge3/envs/m1_mac_tensorflow/lib/python3.8/site-packages (from ipython->keras-tuner) (5.1.1)\n",
      "Requirement already satisfied, skipping upgrade: pexpect>4.3; sys_platform != \"win32\" in /Users/mugaikotsu/miniforge3/envs/m1_mac_tensorflow/lib/python3.8/site-packages (from ipython->keras-tuner) (4.8.0)\n",
      "Requirement already satisfied, skipping upgrade: appnope; sys_platform == \"darwin\" in /Users/mugaikotsu/miniforge3/envs/m1_mac_tensorflow/lib/python3.8/site-packages (from ipython->keras-tuner) (0.1.3)\n",
      "Requirement already satisfied, skipping upgrade: matplotlib-inline in /Users/mugaikotsu/miniforge3/envs/m1_mac_tensorflow/lib/python3.8/site-packages (from ipython->keras-tuner) (0.1.3)\n",
      "Requirement already satisfied, skipping upgrade: jedi>=0.16 in /Users/mugaikotsu/miniforge3/envs/m1_mac_tensorflow/lib/python3.8/site-packages (from ipython->keras-tuner) (0.18.1)\n",
      "Requirement already satisfied, skipping upgrade: google-auth-oauthlib<0.5,>=0.4.1 in /Users/mugaikotsu/miniforge3/envs/m1_mac_tensorflow/lib/python3.8/site-packages (from tensorboard->keras-tuner) (0.4.6)\n",
      "Requirement already satisfied, skipping upgrade: absl-py>=0.4 in /Users/mugaikotsu/miniforge3/envs/m1_mac_tensorflow/lib/python3.8/site-packages (from tensorboard->keras-tuner) (1.0.0)\n",
      "Requirement already satisfied, skipping upgrade: google-auth<3,>=1.6.3 in /Users/mugaikotsu/miniforge3/envs/m1_mac_tensorflow/lib/python3.8/site-packages (from tensorboard->keras-tuner) (2.6.6)\n",
      "Requirement already satisfied, skipping upgrade: grpcio>=1.24.3 in /Users/mugaikotsu/miniforge3/envs/m1_mac_tensorflow/lib/python3.8/site-packages (from tensorboard->keras-tuner) (1.45.0)\n",
      "Requirement already satisfied, skipping upgrade: protobuf>=3.6.0 in /Users/mugaikotsu/miniforge3/envs/m1_mac_tensorflow/lib/python3.8/site-packages (from tensorboard->keras-tuner) (3.20.1)\n",
      "Requirement already satisfied, skipping upgrade: werkzeug>=0.11.15 in /Users/mugaikotsu/miniforge3/envs/m1_mac_tensorflow/lib/python3.8/site-packages (from tensorboard->keras-tuner) (2.1.2)\n",
      "Requirement already satisfied, skipping upgrade: markdown>=2.6.8 in /Users/mugaikotsu/miniforge3/envs/m1_mac_tensorflow/lib/python3.8/site-packages (from tensorboard->keras-tuner) (3.3.7)\n",
      "Requirement already satisfied, skipping upgrade: tensorboard-plugin-wit>=1.6.0 in /Users/mugaikotsu/miniforge3/envs/m1_mac_tensorflow/lib/python3.8/site-packages (from tensorboard->keras-tuner) (1.8.1)\n",
      "Requirement already satisfied, skipping upgrade: wheel>=0.26 in /Users/mugaikotsu/miniforge3/envs/m1_mac_tensorflow/lib/python3.8/site-packages (from tensorboard->keras-tuner) (0.37.1)\n",
      "Requirement already satisfied, skipping upgrade: tensorboard-data-server<0.7.0,>=0.6.0 in /Users/mugaikotsu/miniforge3/envs/m1_mac_tensorflow/lib/python3.8/site-packages (from tensorboard->keras-tuner) (0.6.0)\n",
      "Requirement already satisfied, skipping upgrade: urllib3<1.27,>=1.21.1 in /Users/mugaikotsu/miniforge3/envs/m1_mac_tensorflow/lib/python3.8/site-packages (from requests->keras-tuner) (1.26.9)\n",
      "Requirement already satisfied, skipping upgrade: charset-normalizer~=2.0.0; python_version >= \"3\" in /Users/mugaikotsu/miniforge3/envs/m1_mac_tensorflow/lib/python3.8/site-packages (from requests->keras-tuner) (2.0.12)\n",
      "Requirement already satisfied, skipping upgrade: idna<4,>=2.5; python_version >= \"3\" in /Users/mugaikotsu/miniforge3/envs/m1_mac_tensorflow/lib/python3.8/site-packages (from requests->keras-tuner) (3.3)\n",
      "Requirement already satisfied, skipping upgrade: certifi>=2017.4.17 in /Users/mugaikotsu/miniforge3/envs/m1_mac_tensorflow/lib/python3.8/site-packages (from requests->keras-tuner) (2022.5.18.1)\n",
      "Requirement already satisfied, skipping upgrade: executing in /Users/mugaikotsu/miniforge3/envs/m1_mac_tensorflow/lib/python3.8/site-packages (from stack-data->ipython->keras-tuner) (0.8.3)\n",
      "Requirement already satisfied, skipping upgrade: asttokens in /Users/mugaikotsu/miniforge3/envs/m1_mac_tensorflow/lib/python3.8/site-packages (from stack-data->ipython->keras-tuner) (2.0.5)\n",
      "Requirement already satisfied, skipping upgrade: pure-eval in /Users/mugaikotsu/miniforge3/envs/m1_mac_tensorflow/lib/python3.8/site-packages (from stack-data->ipython->keras-tuner) (0.2.2)\n",
      "Requirement already satisfied, skipping upgrade: wcwidth in /Users/mugaikotsu/miniforge3/envs/m1_mac_tensorflow/lib/python3.8/site-packages (from prompt-toolkit!=3.0.0,!=3.0.1,<3.1.0,>=2.0.0->ipython->keras-tuner) (0.2.5)\n",
      "Requirement already satisfied, skipping upgrade: ptyprocess>=0.5 in /Users/mugaikotsu/miniforge3/envs/m1_mac_tensorflow/lib/python3.8/site-packages (from pexpect>4.3; sys_platform != \"win32\"->ipython->keras-tuner) (0.7.0)\n",
      "Requirement already satisfied, skipping upgrade: parso<0.9.0,>=0.8.0 in /Users/mugaikotsu/miniforge3/envs/m1_mac_tensorflow/lib/python3.8/site-packages (from jedi>=0.16->ipython->keras-tuner) (0.8.3)\n",
      "Requirement already satisfied, skipping upgrade: requests-oauthlib>=0.7.0 in /Users/mugaikotsu/miniforge3/envs/m1_mac_tensorflow/lib/python3.8/site-packages (from google-auth-oauthlib<0.5,>=0.4.1->tensorboard->keras-tuner) (1.3.1)\n",
      "Requirement already satisfied, skipping upgrade: six in /Users/mugaikotsu/miniforge3/envs/m1_mac_tensorflow/lib/python3.8/site-packages (from absl-py>=0.4->tensorboard->keras-tuner) (1.16.0)\n",
      "Requirement already satisfied, skipping upgrade: cachetools<6.0,>=2.0.0 in /Users/mugaikotsu/miniforge3/envs/m1_mac_tensorflow/lib/python3.8/site-packages (from google-auth<3,>=1.6.3->tensorboard->keras-tuner) (5.0.0)\n",
      "Requirement already satisfied, skipping upgrade: pyasn1-modules>=0.2.1 in /Users/mugaikotsu/miniforge3/envs/m1_mac_tensorflow/lib/python3.8/site-packages (from google-auth<3,>=1.6.3->tensorboard->keras-tuner) (0.2.7)\n",
      "Requirement already satisfied, skipping upgrade: rsa<5,>=3.1.4; python_version >= \"3.6\" in /Users/mugaikotsu/miniforge3/envs/m1_mac_tensorflow/lib/python3.8/site-packages (from google-auth<3,>=1.6.3->tensorboard->keras-tuner) (4.8)\n",
      "Requirement already satisfied, skipping upgrade: importlib-metadata>=4.4; python_version < \"3.10\" in /Users/mugaikotsu/miniforge3/envs/m1_mac_tensorflow/lib/python3.8/site-packages (from markdown>=2.6.8->tensorboard->keras-tuner) (4.11.4)\n",
      "Requirement already satisfied, skipping upgrade: oauthlib>=3.0.0 in /Users/mugaikotsu/miniforge3/envs/m1_mac_tensorflow/lib/python3.8/site-packages (from requests-oauthlib>=0.7.0->google-auth-oauthlib<0.5,>=0.4.1->tensorboard->keras-tuner) (3.2.0)\n",
      "Requirement already satisfied, skipping upgrade: pyasn1<0.5.0,>=0.4.6 in /Users/mugaikotsu/miniforge3/envs/m1_mac_tensorflow/lib/python3.8/site-packages (from pyasn1-modules>=0.2.1->google-auth<3,>=1.6.3->tensorboard->keras-tuner) (0.4.8)\n",
      "Requirement already satisfied, skipping upgrade: zipp>=0.5 in /Users/mugaikotsu/miniforge3/envs/m1_mac_tensorflow/lib/python3.8/site-packages (from importlib-metadata>=4.4; python_version < \"3.10\"->markdown>=2.6.8->tensorboard->keras-tuner) (3.8.0)\n"
     ]
    }
   ],
   "source": [
    "!pip install -U keras-tuner\n",
    "import kerastuner as kt"
   ]
  },
  {
   "cell_type": "code",
   "execution_count": 16,
   "id": "6a8fe834",
   "metadata": {},
   "outputs": [],
   "source": [
    "(img_train, label_train), (img_test, label_test) = keras.datasets.fashion_mnist.load_data()"
   ]
  },
  {
   "cell_type": "code",
   "execution_count": 17,
   "id": "53228b29",
   "metadata": {},
   "outputs": [],
   "source": [
    "# Normalize pixel values between 0 and 1\n",
    "img_train = img_train.astype('float32') / 255.0\n",
    "img_test = img_test.astype('float32') / 255.0"
   ]
  },
  {
   "cell_type": "code",
   "execution_count": 20,
   "id": "6d2cd0ea",
   "metadata": {},
   "outputs": [],
   "source": [
    "def model_builder(hp):\n",
    "  model = keras.Sequential()\n",
    "  model.add(keras.layers.Flatten(input_shape=(28, 28)))\n",
    "\n",
    "  # Tune the number of units in the first Dense layer\n",
    "  # Choose an optimal value between 32-512\n",
    "  hp_units = hp.Int('units', min_value = 32, max_value = 512, step = 32)\n",
    "  model.add(keras.layers.Dense(units = hp_units, activation = 'relu'))\n",
    "  model.add(keras.layers.Dense(10))\n",
    "\n",
    "  # Tune the learning rate for the optimizer \n",
    "  # Choose an optimal value from 0.01, 0.001, or 0.0001\n",
    "  hp_learning_rate = hp.Choice('learning_rate', values = [1e-2, 1e-3, 1e-4]) \n",
    "\n",
    "  model.compile(optimizer = keras.optimizers.Adam(learning_rate = hp_learning_rate),\n",
    "                loss = keras.losses.SparseCategoricalCrossentropy(from_logits = True), \n",
    "                metrics = ['accuracy'])\n",
    "\n",
    "  return model"
   ]
  },
  {
   "cell_type": "code",
   "execution_count": 22,
   "id": "4322387d",
   "metadata": {},
   "outputs": [],
   "source": [
    "# チューナーをインスタンス化してハイパーチューニングを実行\n",
    "tuner = kt.Hyperband(model_builder,\n",
    "                     objective = 'val_accuracy', \n",
    "                     max_epochs = 10,\n",
    "                     factor = 3,\n",
    "                     directory = 'my_dir',\n",
    "                     project_name = 'intro_to_kt')"
   ]
  },
  {
   "cell_type": "code",
   "execution_count": 23,
   "id": "b3f8053b",
   "metadata": {},
   "outputs": [],
   "source": [
    "# トレーニングステップごとにトレーニング出力をクリアにするコールバックを定義\n",
    "class ClearTrainingOutput(tf.keras.callbacks.Callback):\n",
    "    def on_train_end(*args, **kwargs):\n",
    "        IPython.display.clear_output(wait=True)"
   ]
  },
  {
   "cell_type": "code",
   "execution_count": 24,
   "id": "355d743b",
   "metadata": {},
   "outputs": [
    {
     "name": "stdout",
     "output_type": "stream",
     "text": [
      "Trial 30 Complete [00h 00m 27s]\n",
      "val_accuracy: 0.8507000207901001\n",
      "\n",
      "Best val_accuracy So Far: 0.8834999799728394\n",
      "Total elapsed time: 00h 04m 27s\n",
      "INFO:tensorflow:Oracle triggered exit\n",
      "\n",
      "The hyperparameter search is complete. The optimal number of units in the first densely-connected\n",
      "layer is 128 and the optimal learning rate for the optimizer\n",
      "is 0.001.\n",
      "\n"
     ]
    }
   ],
   "source": [
    "# ハイパーパラメータ検索を実行\n",
    "tuner.search(img_train, label_train, epochs=10, validation_data=(img_test, label_test), callbacks = [ClearTrainingOutput()])\n",
    "\n",
    "best_hps = tuner.get_best_hyperparameters(num_trials=1)[0]\n",
    "\n",
    "print(f\"\"\"\n",
    "The hyperparameter search is complete. The optimal number of units in the first densely-connected\n",
    "layer is {best_hps.get('units')} and the optimal learning rate for the optimizer\n",
    "is {best_hps.get('learning_rate')}.\n",
    "\"\"\")"
   ]
  },
  {
   "cell_type": "code",
   "execution_count": 25,
   "id": "45d7850c",
   "metadata": {},
   "outputs": [
    {
     "name": "stdout",
     "output_type": "stream",
     "text": [
      "Epoch 1/10\n",
      "1875/1875 [==============================] - 2s 944us/step - loss: 0.4972 - accuracy: 0.8260 - val_loss: 0.4230 - val_accuracy: 0.8487\n",
      "Epoch 2/10\n",
      "1875/1875 [==============================] - 2s 915us/step - loss: 0.3732 - accuracy: 0.8658 - val_loss: 0.3787 - val_accuracy: 0.8647\n",
      "Epoch 3/10\n",
      "1875/1875 [==============================] - 2s 899us/step - loss: 0.3377 - accuracy: 0.8785 - val_loss: 0.3581 - val_accuracy: 0.8754\n",
      "Epoch 4/10\n",
      "1875/1875 [==============================] - 2s 837us/step - loss: 0.3114 - accuracy: 0.8857 - val_loss: 0.3562 - val_accuracy: 0.8743\n",
      "Epoch 5/10\n",
      "1875/1875 [==============================] - 2s 860us/step - loss: 0.2926 - accuracy: 0.8915 - val_loss: 0.3517 - val_accuracy: 0.8774\n",
      "Epoch 6/10\n",
      "1875/1875 [==============================] - 2s 892us/step - loss: 0.2779 - accuracy: 0.8974 - val_loss: 0.3435 - val_accuracy: 0.8787\n",
      "Epoch 7/10\n",
      "1875/1875 [==============================] - 2s 807us/step - loss: 0.2642 - accuracy: 0.9015 - val_loss: 0.3367 - val_accuracy: 0.8822\n",
      "Epoch 8/10\n",
      "1875/1875 [==============================] - 2s 831us/step - loss: 0.2545 - accuracy: 0.9061 - val_loss: 0.3575 - val_accuracy: 0.8761\n",
      "Epoch 9/10\n",
      "1875/1875 [==============================] - 2s 804us/step - loss: 0.2449 - accuracy: 0.9083 - val_loss: 0.3659 - val_accuracy: 0.8753\n",
      "Epoch 10/10\n",
      "1875/1875 [==============================] - 2s 805us/step - loss: 0.2351 - accuracy: 0.9124 - val_loss: 0.3433 - val_accuracy: 0.8821\n"
     ]
    },
    {
     "data": {
      "text/plain": [
       "<keras.callbacks.History at 0x132862ac0>"
      ]
     },
     "execution_count": 25,
     "metadata": {},
     "output_type": "execute_result"
    }
   ],
   "source": [
    "# 検索から得た最適なハイパーパラメータでモデルを保存する\n",
    "model = tuner.hypermodel.build(best_hps)\n",
    "model.fit(img_train, label_train, epochs=10, validation_data=(img_test, label_test))"
   ]
  },
  {
   "cell_type": "code",
   "execution_count": null,
   "id": "2bc40867",
   "metadata": {},
   "outputs": [],
   "source": []
  }
 ],
 "metadata": {
  "kernelspec": {
   "display_name": "Python 3 (ipykernel)",
   "language": "python",
   "name": "python3"
  },
  "language_info": {
   "codemirror_mode": {
    "name": "ipython",
    "version": 3
   },
   "file_extension": ".py",
   "mimetype": "text/x-python",
   "name": "python",
   "nbconvert_exporter": "python",
   "pygments_lexer": "ipython3",
   "version": "3.8.13"
  }
 },
 "nbformat": 4,
 "nbformat_minor": 5
}

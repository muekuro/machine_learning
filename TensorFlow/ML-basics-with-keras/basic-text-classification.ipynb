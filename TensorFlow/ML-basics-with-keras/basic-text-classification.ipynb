{
 "cells": [
  {
   "cell_type": "code",
   "execution_count": 1,
   "id": "5880155b",
   "metadata": {},
   "outputs": [],
   "source": [
    "import tensorflow as tf\n",
    "from tensorflow import keras\n",
    "\n",
    "import numpy as np"
   ]
  },
  {
   "cell_type": "code",
   "execution_count": 6,
   "id": "4acfc6e6",
   "metadata": {},
   "outputs": [],
   "source": [
    "# IMDB datasetのダウンロード\n",
    "imdb = keras.datasets.imdb\n",
    "\n",
    "# 訓練データ中に出てくる単語のうち、最も頻繁に出現する10000個を保持\n",
    "(train_data, train_labels), (test_data, test_labels) = imdb.load_data(num_words=10000) "
   ]
  },
  {
   "cell_type": "code",
   "execution_count": 8,
   "id": "b86fbca5",
   "metadata": {},
   "outputs": [
    {
     "name": "stdout",
     "output_type": "stream",
     "text": [
      "Training entries: 25000, labels: 25000\n"
     ]
    }
   ],
   "source": [
    "# データの観察\n",
    "#　ラベルはそれぞれ、0または1の整数値で、0が否定的なレビュー、1が肯定的なレビュー\n",
    "print(\"Training entries: {}, labels: {}\".format(len(train_data), len(train_labels)))"
   ]
  },
  {
   "cell_type": "code",
   "execution_count": 9,
   "id": "2bc05c80",
   "metadata": {},
   "outputs": [
    {
     "name": "stdout",
     "output_type": "stream",
     "text": [
      "[1, 14, 22, 16, 43, 530, 973, 1622, 1385, 65, 458, 4468, 66, 3941, 4, 173, 36, 256, 5, 25, 100, 43, 838, 112, 50, 670, 2, 9, 35, 480, 284, 5, 150, 4, 172, 112, 167, 2, 336, 385, 39, 4, 172, 4536, 1111, 17, 546, 38, 13, 447, 4, 192, 50, 16, 6, 147, 2025, 19, 14, 22, 4, 1920, 4613, 469, 4, 22, 71, 87, 12, 16, 43, 530, 38, 76, 15, 13, 1247, 4, 22, 17, 515, 17, 12, 16, 626, 18, 2, 5, 62, 386, 12, 8, 316, 8, 106, 5, 4, 2223, 5244, 16, 480, 66, 3785, 33, 4, 130, 12, 16, 38, 619, 5, 25, 124, 51, 36, 135, 48, 25, 1415, 33, 6, 22, 12, 215, 28, 77, 52, 5, 14, 407, 16, 82, 2, 8, 4, 107, 117, 5952, 15, 256, 4, 2, 7, 3766, 5, 723, 36, 71, 43, 530, 476, 26, 400, 317, 46, 7, 4, 2, 1029, 13, 104, 88, 4, 381, 15, 297, 98, 32, 2071, 56, 26, 141, 6, 194, 7486, 18, 4, 226, 22, 21, 134, 476, 26, 480, 5, 144, 30, 5535, 18, 51, 36, 28, 224, 92, 25, 104, 4, 226, 65, 16, 38, 1334, 88, 12, 16, 283, 5, 16, 4472, 113, 103, 32, 15, 16, 5345, 19, 178, 32]\n"
     ]
    }
   ],
   "source": [
    "print(train_data[0])"
   ]
  },
  {
   "cell_type": "code",
   "execution_count": 10,
   "id": "5a3caed4",
   "metadata": {},
   "outputs": [
    {
     "data": {
      "text/plain": [
       "(218, 189)"
      ]
     },
     "execution_count": 10,
     "metadata": {},
     "output_type": "execute_result"
    }
   ],
   "source": [
    "len(train_data[0]), len(train_data[1])"
   ]
  },
  {
   "cell_type": "code",
   "execution_count": 11,
   "id": "73e4b106",
   "metadata": {},
   "outputs": [
    {
     "name": "stdout",
     "output_type": "stream",
     "text": [
      "Downloading data from https://storage.googleapis.com/tensorflow/tf-keras-datasets/imdb_word_index.json\n",
      "1646592/1641221 [==============================] - 0s 0us/step\n",
      "1654784/1641221 [==============================] - 0s 0us/step\n"
     ]
    }
   ],
   "source": [
    "# 整数を単語に戻す\n",
    "\n",
    "# 単語を整数にマッピングする辞書\n",
    "word_index = imdb.get_word_index()\n",
    "\n",
    "# インデックスの最初の方は予約済み\n",
    "word_index = {k: (v+3) for k,v in word_index.items()}\n",
    "word_index[\"<PAD>\"] = 0\n",
    "word_index[\"<START>\"] = 1\n",
    "word_index[\"<UNL>\"] = 2 # unknown\n",
    "word_index[\"<UNUSED\"] = 3\n",
    "\n",
    "reverse_word_index = dict([(value, key) for (key, value) in word_index.items()])\n",
    "\n",
    "def decode_review(text):\n",
    "    return ' '.join([reverse_word_index.get(i, '?') for i in text])"
   ]
  },
  {
   "cell_type": "code",
   "execution_count": 12,
   "id": "dd412426",
   "metadata": {},
   "outputs": [
    {
     "data": {
      "text/plain": [
       "\"<START> this film was just brilliant casting location scenery story direction everyone's really suited the part they played and you could just imagine being there robert <UNL> is an amazing actor and now the same being director <UNL> father came from the same scottish island as myself so i loved the fact there was a real connection with this film the witty remarks throughout the film were great it was just brilliant so much that i bought the film as soon as it was released for <UNL> and would recommend it to everyone to watch and the fly fishing was amazing really cried at the end it was so sad and you know what they say if you cry at a film it must have been good and this definitely was also <UNL> to the two little boy's that played the <UNL> of norman and paul they were just brilliant children are often left out of the <UNL> list i think because the stars that play them all grown up are such a big profile for the whole film but these children are amazing and should be praised for what they have done don't you think the whole story was so lovely because it was true and was someone's life after all that was shared with us all\""
      ]
     },
     "execution_count": 12,
     "metadata": {},
     "output_type": "execute_result"
    }
   ],
   "source": [
    "# 最初のレビューのテキストを表示\n",
    "decode_review(train_data[0])"
   ]
  },
  {
   "cell_type": "code",
   "execution_count": 15,
   "id": "487eae75",
   "metadata": {},
   "outputs": [],
   "source": [
    "# 長さの標準化\n",
    "train_data = keras.preprocessing.sequence.pad_sequences(train_data,\n",
    "                                                                                                       value=word_index[\"<PAD>\"],\n",
    "                                                                                                       padding='post',\n",
    "                                                                                                       maxlen=256)\n",
    "\n",
    "test_data = keras.preprocessing.sequence.pad_sequences(test_data,\n",
    "                                                                                                     value=word_index[\"<PAD>\"],\n",
    "                                                                                                     padding='post',\n",
    "                                                                                                     maxlen=256)"
   ]
  },
  {
   "cell_type": "code",
   "execution_count": 16,
   "id": "6b3a82aa",
   "metadata": {},
   "outputs": [
    {
     "data": {
      "text/plain": [
       "(256, 256)"
      ]
     },
     "execution_count": 16,
     "metadata": {},
     "output_type": "execute_result"
    }
   ],
   "source": [
    "len(train_data[0]), len(train_data[1])"
   ]
  },
  {
   "cell_type": "code",
   "execution_count": 17,
   "id": "281a9daf",
   "metadata": {},
   "outputs": [
    {
     "name": "stdout",
     "output_type": "stream",
     "text": [
      "[   1   14   22   16   43  530  973 1622 1385   65  458 4468   66 3941\n",
      "    4  173   36  256    5   25  100   43  838  112   50  670    2    9\n",
      "   35  480  284    5  150    4  172  112  167    2  336  385   39    4\n",
      "  172 4536 1111   17  546   38   13  447    4  192   50   16    6  147\n",
      " 2025   19   14   22    4 1920 4613  469    4   22   71   87   12   16\n",
      "   43  530   38   76   15   13 1247    4   22   17  515   17   12   16\n",
      "  626   18    2    5   62  386   12    8  316    8  106    5    4 2223\n",
      " 5244   16  480   66 3785   33    4  130   12   16   38  619    5   25\n",
      "  124   51   36  135   48   25 1415   33    6   22   12  215   28   77\n",
      "   52    5   14  407   16   82    2    8    4  107  117 5952   15  256\n",
      "    4    2    7 3766    5  723   36   71   43  530  476   26  400  317\n",
      "   46    7    4    2 1029   13  104   88    4  381   15  297   98   32\n",
      " 2071   56   26  141    6  194 7486   18    4  226   22   21  134  476\n",
      "   26  480    5  144   30 5535   18   51   36   28  224   92   25  104\n",
      "    4  226   65   16   38 1334   88   12   16  283    5   16 4472  113\n",
      "  103   32   15   16 5345   19  178   32    0    0    0    0    0    0\n",
      "    0    0    0    0    0    0    0    0    0    0    0    0    0    0\n",
      "    0    0    0    0    0    0    0    0    0    0    0    0    0    0\n",
      "    0    0    0    0]\n"
     ]
    }
   ],
   "source": [
    "print(train_data[0])"
   ]
  },
  {
   "cell_type": "code",
   "execution_count": 20,
   "id": "085ee2bc",
   "metadata": {},
   "outputs": [
    {
     "name": "stdout",
     "output_type": "stream",
     "text": [
      "Model: \"sequential_2\"\n",
      "_________________________________________________________________\n",
      " Layer (type)                Output Shape              Param #   \n",
      "=================================================================\n",
      " embedding_2 (Embedding)     (None, None, 16)          160000    \n",
      "                                                                 \n",
      " global_average_pooling1d (G  (None, 16)               0         \n",
      " lobalAveragePooling1D)                                          \n",
      "                                                                 \n",
      " dense (Dense)               (None, 16)                272       \n",
      "                                                                 \n",
      " dense_1 (Dense)             (None, 1)                 17        \n",
      "                                                                 \n",
      "=================================================================\n",
      "Total params: 160,289\n",
      "Trainable params: 160,289\n",
      "Non-trainable params: 0\n",
      "_________________________________________________________________\n"
     ]
    }
   ],
   "source": [
    "# モデルの構築\n",
    "# 入力の形式は映画レビューで使われている語彙数(10000語)\n",
    "vocab_size  = 10000\n",
    "\n",
    "model = keras.Sequential()\n",
    "model.add(keras.layers.Embedding(vocab_size, 16)) # 整数にエンコードされた語彙を受け取り，それぞれの単語インデックスに対応する埋め込みベクトルを検索\n",
    "model.add(keras.layers.GlobalAveragePooling1D()) # それぞれのサンプルについて、シーケンスの次元方向に平均値を求め、固定長のベクトルを返す\n",
    "model.add(keras.layers.Dense(16, activation='relu')) # 1６個の隠れユニットを持つ全結合層に受け渡す\n",
    "model.add(keras.layers.Dense(1, activation='sigmoid')) # 1個の出力ノードに全結合する\n",
    "\n",
    "model.summary()"
   ]
  },
  {
   "cell_type": "code",
   "execution_count": 21,
   "id": "11c175bd",
   "metadata": {},
   "outputs": [],
   "source": [
    "# モデルのオプティマイザと損失関数を設定\n",
    "model.compile(optimizer = 'adam',\n",
    "                         loss='binary_crossentropy',\n",
    "                         metrics=['accuracy'])"
   ]
  },
  {
   "cell_type": "code",
   "execution_count": 22,
   "id": "2303f4d7",
   "metadata": {},
   "outputs": [],
   "source": [
    "# 検証データの作成\n",
    "x_val = train_data[:10000]\n",
    "partial_x_train = train_data[10000:]\n",
    "\n",
    "y_val = train_labels[:10000]\n",
    "partial_y_train = train_labels[10000:]"
   ]
  },
  {
   "cell_type": "code",
   "execution_count": 23,
   "id": "7557fcd1",
   "metadata": {},
   "outputs": [
    {
     "name": "stdout",
     "output_type": "stream",
     "text": [
      "Epoch 1/40\n"
     ]
    },
    {
     "name": "stderr",
     "output_type": "stream",
     "text": [
      "2022-06-02 13:54:22.585325: W tensorflow/core/platform/profile_utils/cpu_utils.cc:128] Failed to get CPU frequency: 0 Hz\n"
     ]
    },
    {
     "name": "stdout",
     "output_type": "stream",
     "text": [
      "30/30 [==============================] - 1s 11ms/step - loss: 0.6920 - accuracy: 0.6035 - val_loss: 0.6899 - val_accuracy: 0.6530\n",
      "Epoch 2/40\n",
      "30/30 [==============================] - 0s 9ms/step - loss: 0.6864 - accuracy: 0.6828 - val_loss: 0.6823 - val_accuracy: 0.7416\n",
      "Epoch 3/40\n",
      "30/30 [==============================] - 0s 9ms/step - loss: 0.6752 - accuracy: 0.7523 - val_loss: 0.6685 - val_accuracy: 0.7456\n",
      "Epoch 4/40\n",
      "30/30 [==============================] - 0s 9ms/step - loss: 0.6560 - accuracy: 0.7644 - val_loss: 0.6463 - val_accuracy: 0.7626\n",
      "Epoch 5/40\n",
      "30/30 [==============================] - 0s 9ms/step - loss: 0.6270 - accuracy: 0.7941 - val_loss: 0.6148 - val_accuracy: 0.7771\n",
      "Epoch 6/40\n",
      "30/30 [==============================] - 0s 9ms/step - loss: 0.5876 - accuracy: 0.8088 - val_loss: 0.5752 - val_accuracy: 0.8037\n",
      "Epoch 7/40\n",
      "30/30 [==============================] - 0s 9ms/step - loss: 0.5416 - accuracy: 0.8280 - val_loss: 0.5320 - val_accuracy: 0.8142\n",
      "Epoch 8/40\n",
      "30/30 [==============================] - 0s 9ms/step - loss: 0.4941 - accuracy: 0.8419 - val_loss: 0.4898 - val_accuracy: 0.8292\n",
      "Epoch 9/40\n",
      "30/30 [==============================] - 0s 9ms/step - loss: 0.4486 - accuracy: 0.8577 - val_loss: 0.4517 - val_accuracy: 0.8419\n",
      "Epoch 10/40\n",
      "30/30 [==============================] - 0s 9ms/step - loss: 0.4087 - accuracy: 0.8690 - val_loss: 0.4193 - val_accuracy: 0.8504\n",
      "Epoch 11/40\n",
      "30/30 [==============================] - 0s 10ms/step - loss: 0.3742 - accuracy: 0.8785 - val_loss: 0.3935 - val_accuracy: 0.8551\n",
      "Epoch 12/40\n",
      "30/30 [==============================] - 0s 10ms/step - loss: 0.3456 - accuracy: 0.8849 - val_loss: 0.3719 - val_accuracy: 0.8613\n",
      "Epoch 13/40\n",
      "30/30 [==============================] - 0s 10ms/step - loss: 0.3209 - accuracy: 0.8930 - val_loss: 0.3545 - val_accuracy: 0.8671\n",
      "Epoch 14/40\n",
      "30/30 [==============================] - 0s 10ms/step - loss: 0.3003 - accuracy: 0.8983 - val_loss: 0.3405 - val_accuracy: 0.8714\n",
      "Epoch 15/40\n",
      "30/30 [==============================] - 0s 10ms/step - loss: 0.2827 - accuracy: 0.9028 - val_loss: 0.3300 - val_accuracy: 0.8748\n",
      "Epoch 16/40\n",
      "30/30 [==============================] - 0s 9ms/step - loss: 0.2669 - accuracy: 0.9089 - val_loss: 0.3213 - val_accuracy: 0.8751\n",
      "Epoch 17/40\n",
      "30/30 [==============================] - 0s 10ms/step - loss: 0.2527 - accuracy: 0.9124 - val_loss: 0.3132 - val_accuracy: 0.8776\n",
      "Epoch 18/40\n",
      "30/30 [==============================] - 0s 11ms/step - loss: 0.2399 - accuracy: 0.9167 - val_loss: 0.3076 - val_accuracy: 0.8765\n",
      "Epoch 19/40\n",
      "30/30 [==============================] - 0s 10ms/step - loss: 0.2284 - accuracy: 0.9217 - val_loss: 0.3016 - val_accuracy: 0.8811\n",
      "Epoch 20/40\n",
      "30/30 [==============================] - 0s 10ms/step - loss: 0.2180 - accuracy: 0.9243 - val_loss: 0.2977 - val_accuracy: 0.8813\n",
      "Epoch 21/40\n",
      "30/30 [==============================] - 0s 9ms/step - loss: 0.2080 - accuracy: 0.9283 - val_loss: 0.2948 - val_accuracy: 0.8831\n",
      "Epoch 22/40\n",
      "30/30 [==============================] - 0s 9ms/step - loss: 0.1989 - accuracy: 0.9325 - val_loss: 0.2914 - val_accuracy: 0.8831\n",
      "Epoch 23/40\n",
      "30/30 [==============================] - 0s 9ms/step - loss: 0.1901 - accuracy: 0.9359 - val_loss: 0.2892 - val_accuracy: 0.8842\n",
      "Epoch 24/40\n",
      "30/30 [==============================] - 0s 10ms/step - loss: 0.1822 - accuracy: 0.9393 - val_loss: 0.2871 - val_accuracy: 0.8843\n",
      "Epoch 25/40\n",
      "30/30 [==============================] - 0s 10ms/step - loss: 0.1747 - accuracy: 0.9431 - val_loss: 0.2868 - val_accuracy: 0.8834\n",
      "Epoch 26/40\n",
      "30/30 [==============================] - 0s 10ms/step - loss: 0.1678 - accuracy: 0.9461 - val_loss: 0.2858 - val_accuracy: 0.8841\n",
      "Epoch 27/40\n",
      "30/30 [==============================] - 0s 10ms/step - loss: 0.1610 - accuracy: 0.9491 - val_loss: 0.2855 - val_accuracy: 0.8850\n",
      "Epoch 28/40\n",
      "30/30 [==============================] - 0s 10ms/step - loss: 0.1553 - accuracy: 0.9513 - val_loss: 0.2868 - val_accuracy: 0.8843\n",
      "Epoch 29/40\n",
      "30/30 [==============================] - 0s 10ms/step - loss: 0.1485 - accuracy: 0.9544 - val_loss: 0.2866 - val_accuracy: 0.8862\n",
      "Epoch 30/40\n",
      "30/30 [==============================] - 0s 10ms/step - loss: 0.1426 - accuracy: 0.9570 - val_loss: 0.2873 - val_accuracy: 0.8850\n",
      "Epoch 31/40\n",
      "30/30 [==============================] - 0s 9ms/step - loss: 0.1374 - accuracy: 0.9585 - val_loss: 0.2883 - val_accuracy: 0.8860\n",
      "Epoch 32/40\n",
      "30/30 [==============================] - 0s 10ms/step - loss: 0.1322 - accuracy: 0.9603 - val_loss: 0.2895 - val_accuracy: 0.8851\n",
      "Epoch 33/40\n",
      "30/30 [==============================] - 0s 9ms/step - loss: 0.1270 - accuracy: 0.9635 - val_loss: 0.2913 - val_accuracy: 0.8850\n",
      "Epoch 34/40\n",
      "30/30 [==============================] - 0s 9ms/step - loss: 0.1223 - accuracy: 0.9650 - val_loss: 0.2920 - val_accuracy: 0.8856\n",
      "Epoch 35/40\n",
      "30/30 [==============================] - 0s 10ms/step - loss: 0.1177 - accuracy: 0.9668 - val_loss: 0.2940 - val_accuracy: 0.8851\n",
      "Epoch 36/40\n",
      "30/30 [==============================] - 0s 9ms/step - loss: 0.1131 - accuracy: 0.9683 - val_loss: 0.2963 - val_accuracy: 0.8851\n",
      "Epoch 37/40\n",
      "30/30 [==============================] - 0s 9ms/step - loss: 0.1093 - accuracy: 0.9698 - val_loss: 0.2992 - val_accuracy: 0.8845\n",
      "Epoch 38/40\n",
      "30/30 [==============================] - 0s 9ms/step - loss: 0.1049 - accuracy: 0.9713 - val_loss: 0.3013 - val_accuracy: 0.8837\n",
      "Epoch 39/40\n",
      "30/30 [==============================] - 0s 9ms/step - loss: 0.1018 - accuracy: 0.9727 - val_loss: 0.3047 - val_accuracy: 0.8830\n",
      "Epoch 40/40\n",
      "30/30 [==============================] - 0s 9ms/step - loss: 0.0972 - accuracy: 0.9745 - val_loss: 0.3086 - val_accuracy: 0.8821\n"
     ]
    }
   ],
   "source": [
    "# モデルの訓練\n",
    "history = model.fit(partial_x_train,\n",
    "                               partial_y_train,\n",
    "                               epochs=40,\n",
    "                               batch_size=512,\n",
    "                               validation_data=(x_val, y_val),\n",
    "                               verbose=1)"
   ]
  },
  {
   "cell_type": "code",
   "execution_count": 24,
   "id": "d4aff9e2",
   "metadata": {},
   "outputs": [
    {
     "name": "stdout",
     "output_type": "stream",
     "text": [
      "782/782 - 0s - loss: 0.3308 - accuracy: 0.8711 - 335ms/epoch - 428us/step\n",
      "[0.3308359682559967, 0.8710799813270569]\n"
     ]
    }
   ],
   "source": [
    "# モデルの評価\n",
    "results = model.evaluate(test_data, test_labels, verbose=2)\n",
    "\n",
    "print(results)"
   ]
  },
  {
   "cell_type": "code",
   "execution_count": 27,
   "id": "f0544181",
   "metadata": {},
   "outputs": [
    {
     "data": {
      "text/plain": [
       "dict_keys(['loss', 'accuracy', 'val_loss', 'val_accuracy'])"
      ]
     },
     "execution_count": 27,
     "metadata": {},
     "output_type": "execute_result"
    }
   ],
   "source": [
    "history_dict = history.history\n",
    "history_dict.keys()"
   ]
  },
  {
   "cell_type": "code",
   "execution_count": 32,
   "id": "d19c0dc0",
   "metadata": {},
   "outputs": [
    {
     "data": {
      "image/png": "[encoded data removed]",
      "text/plain": [
       "<Figure size 432x288 with 1 Axes>"
      ]
     },
     "metadata": {
      "needs_background": "light"
     },
     "output_type": "display_data"
    }
   ],
   "source": [
    "# 正解率と損失の時系列グラフを絵画する\n",
    "import matplotlib.pyplot as plt\n",
    "\n",
    "acc = history_dict['accuracy']\n",
    "val_acc = history_dict['val_accuracy']\n",
    "loss = history_dict['loss']\n",
    "val_loss = history_dict['val_loss']\n",
    "\n",
    "epochs = range(1, len(acc) + 1)\n",
    "\n",
    "# \"bo\" is for \"blue dot\"\n",
    "plt.plot(epochs, loss, 'bo', label='Training loss')\n",
    "# b is for \"solid line\"\n",
    "plt.plot(epochs, val_loss, 'b', label='Validation loss')\n",
    "plt.title('Training and validation loss')\n",
    "plt.xlabel('Epochs')\n",
    "plt.ylabel('Loss')\n",
    "plt.legend()\n",
    "\n",
    "plt.show()"
   ]
  },
  {
   "cell_type": "code",
   "execution_count": 33,
   "id": "1c53fe00",
   "metadata": {},
   "outputs": [
    {
     "data": {
      "image/png": "[encoded data removed]",
      "text/plain": [
       "<Figure size 432x288 with 1 Axes>"
      ]
     },
     "metadata": {
      "needs_background": "light"
     },
     "output_type": "display_data"
    }
   ],
   "source": [
    "plt.clf() # 図のクリア\n",
    "\n",
    "plt.plot(epochs, acc, 'bo', label='Training acc')\n",
    "plt.plot(epochs, val_acc, 'b', label='Validation acc')\n",
    "plt.title('Training and validation accuracy')\n",
    "plt.xlabel('Epochs')\n",
    "plt.ylabel('Accuracy')\n",
    "plt.legend()\n",
    "\n",
    "plt.show()"
   ]
  },
  {
   "cell_type": "code",
   "execution_count": null,
   "id": "39546f73",
   "metadata": {},
   "outputs": [],
   "source": []
  }
 ],
 "metadata": {
  "kernelspec": {
   "display_name": "Python 3 (ipykernel)",
   "language": "python",
   "name": "python3"
  },
  "language_info": {
   "codemirror_mode": {
    "name": "ipython",
    "version": 3
   },
   "file_extension": ".py",
   "mimetype": "text/x-python",
   "name": "python",
   "nbconvert_exporter": "python",
   "pygments_lexer": "ipython3",
   "version": "3.8.13"
  }
 },
 "nbformat": 4,
 "nbformat_minor": 5
}
